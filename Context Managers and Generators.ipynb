{
 "cells": [
  {
   "cell_type": "markdown",
   "metadata": {},
   "source": [
    "# CSV Context Manager Assignment\n",
    "\n",
    "## Assignment 1\n",
    "\n",
    "For this goal, you are given a number of CSV files (2), each of which have their first row with the field name.\n",
    "\n",
    "You goal is to create a context manager that you can use to produce the data from each file in a named tuple with field names corresponding to the  header row field names.\n",
    "\n",
    "You should use the `csv` module's `reader` function to help with parsing the data.\n",
    "\n",
    "Your context manager should be generic in the sense that it should just need the file name, no other configuration or hardcoded functionality is required. You do not need to worry about data types for this goal - just return every field as a string.\n",
    "\n",
    "In addition, your context manager should produce lazy iterators.\n",
    "\n",
    "Implement this using a class that implements the context manager protocol"
   ]
  },
  {
   "cell_type": "code",
   "execution_count": 11,
   "metadata": {},
   "outputs": [],
   "source": [
    "import csv\n",
    "from collections import namedtuple\n",
    "\n",
    "class CSVContextManager:\n",
    "    def __init__(self, filename, delimiter=','):\n",
    "        self.filename = filename\n",
    "        self.delimiter = delimiter\n",
    "        self.file = None\n",
    "        self.reader = None\n",
    "        self.RowType = None\n",
    "\n",
    "    def __enter__(self):\n",
    "        self.file = open(self.filename, 'r')\n",
    "        self.reader = csv.reader(self.file, delimiter=self.delimiter)\n",
    "        headers = next(self.reader)\n",
    "        # Clean up header names to be valid identifiers\n",
    "        clean_headers = [h.strip().replace(' ', '_').replace('-', '_') for h in headers]\n",
    "        self.RowType = namedtuple('Row', clean_headers)\n",
    "        return self\n",
    "\n",
    "    def __exit__(self, exc_type, exc_value, traceback):\n",
    "        if self.file:\n",
    "            self.file.close()\n",
    "        return False\n",
    "\n",
    "    def __iter__(self):\n",
    "        return self\n",
    "\n",
    "    def __next__(self):\n",
    "        try:\n",
    "            row = next(self.reader)\n",
    "            return self.RowType(*row)\n",
    "        except StopIteration:\n",
    "            raise StopIteration()"
   ]
  },
  {
   "cell_type": "markdown",
   "metadata": {},
   "source": [
    "### Example Usage"
   ]
  },
  {
   "cell_type": "code",
   "execution_count": 58,
   "metadata": {},
   "outputs": [
    {
     "name": "stdout",
     "output_type": "stream",
     "text": [
      "Row(Car='Chevrolet Chevelle Malibu', MPG='18.0', Cylinders='8', Displacement='307.0', Horsepower='130.0', Weight='3504.', Acceleration='12.0', Model='70', Origin='US')\n",
      "Row(Car='Buick Skylark 320', MPG='15.0', Cylinders='8', Displacement='350.0', Horsepower='165.0', Weight='3693.', Acceleration='11.5', Model='70', Origin='US')\n",
      "Row(Car='Plymouth Satellite', MPG='18.0', Cylinders='8', Displacement='318.0', Horsepower='150.0', Weight='3436.', Acceleration='11.0', Model='70', Origin='US')\n",
      "Row(Car='AMC Rebel SST', MPG='16.0', Cylinders='8', Displacement='304.0', Horsepower='150.0', Weight='3433.', Acceleration='12.0', Model='70', Origin='US')\n",
      "Row(Car='Ford Torino', MPG='17.0', Cylinders='8', Displacement='302.0', Horsepower='140.0', Weight='3449.', Acceleration='10.5', Model='70', Origin='US')\n",
      "Row(Car='Ford Galaxie 500', MPG='15.0', Cylinders='8', Displacement='429.0', Horsepower='198.0', Weight='4341.', Acceleration='10.0', Model='70', Origin='US')\n",
      "Row(Car='Chevrolet Impala', MPG='14.0', Cylinders='8', Displacement='454.0', Horsepower='220.0', Weight='4354.', Acceleration='9.0', Model='70', Origin='US')\n",
      "Row(Car='Plymouth Fury iii', MPG='14.0', Cylinders='8', Displacement='440.0', Horsepower='215.0', Weight='4312.', Acceleration='8.5', Model='70', Origin='US')\n",
      "Row(Car='Pontiac Catalina', MPG='14.0', Cylinders='8', Displacement='455.0', Horsepower='225.0', Weight='4425.', Acceleration='10.0', Model='70', Origin='US')\n",
      "Row(Car='AMC Ambassador DPL', MPG='15.0', Cylinders='8', Displacement='390.0', Horsepower='190.0', Weight='3850.', Acceleration='8.5', Model='70', Origin='US')\n"
     ]
    }
   ],
   "source": [
    "# Usage example\n",
    "\n",
    "# Loading csv file with delimiter ;\n",
    "\n",
    "with CSVContextManager('cars.csv', delimiter=';') as csv_context:\n",
    "    i=0\n",
    "    for row in csv_context:\n",
    "        if i>=10: #limiting rows to 10 for clean display\n",
    "            break \n",
    "        print(row)\n",
    "        i+=1"
   ]
  },
  {
   "cell_type": "code",
   "execution_count": 50,
   "metadata": {},
   "outputs": [
    {
     "name": "stdout",
     "output_type": "stream",
     "text": [
      "Row(Summons_Number='4006478550', Plate_ID='VAD7274', Registration_State='VA', Plate_Type='PAS', Issue_Date='10/5/2016', Violation_Code='5', Vehicle_Body_Type='4D', Vehicle_Make='BMW', Violation_Description='BUS LANE VIOLATION')\n",
      "Row(Summons_Number='4006462396', Plate_ID='22834JK', Registration_State='NY', Plate_Type='COM', Issue_Date='9/30/2016', Violation_Code='5', Vehicle_Body_Type='VAN', Vehicle_Make='CHEVR', Violation_Description='BUS LANE VIOLATION')\n",
      "Row(Summons_Number='4007117810', Plate_ID='21791MG', Registration_State='NY', Plate_Type='COM', Issue_Date='4/10/2017', Violation_Code='5', Vehicle_Body_Type='VAN', Vehicle_Make='DODGE', Violation_Description='BUS LANE VIOLATION')\n",
      "Row(Summons_Number='4006265037', Plate_ID='FZX9232', Registration_State='NY', Plate_Type='PAS', Issue_Date='8/23/2016', Violation_Code='5', Vehicle_Body_Type='SUBN', Vehicle_Make='FORD', Violation_Description='BUS LANE VIOLATION')\n",
      "Row(Summons_Number='4006535600', Plate_ID='N203399C', Registration_State='NY', Plate_Type='OMT', Issue_Date='10/19/2016', Violation_Code='5', Vehicle_Body_Type='SUBN', Vehicle_Make='FORD', Violation_Description='BUS LANE VIOLATION')\n",
      "Row(Summons_Number='4007156700', Plate_ID='92163MG', Registration_State='NY', Plate_Type='COM', Issue_Date='4/13/2017', Violation_Code='5', Vehicle_Body_Type='VAN', Vehicle_Make='FRUEH', Violation_Description='BUS LANE VIOLATION')\n",
      "Row(Summons_Number='4006687989', Plate_ID='MIQ600', Registration_State='SC', Plate_Type='PAS', Issue_Date='11/21/2016', Violation_Code='5', Vehicle_Body_Type='VN', Vehicle_Make='HONDA', Violation_Description='BUS LANE VIOLATION')\n",
      "Row(Summons_Number='4006943052', Plate_ID='2AE3984', Registration_State='MD', Plate_Type='PAS', Issue_Date='2/1/2017', Violation_Code='5', Vehicle_Body_Type='SW', Vehicle_Make='LINCO', Violation_Description='BUS LANE VIOLATION')\n",
      "Row(Summons_Number='4007306795', Plate_ID='HLG4926', Registration_State='NY', Plate_Type='PAS', Issue_Date='5/30/2017', Violation_Code='5', Vehicle_Body_Type='SUBN', Vehicle_Make='TOYOT', Violation_Description='BUS LANE VIOLATION')\n",
      "Row(Summons_Number='4007124590', Plate_ID='T715907C', Registration_State='NY', Plate_Type='OMT', Issue_Date='4/3/2017', Violation_Code='5', Vehicle_Body_Type='SUBN', Vehicle_Make='TOYOT', Violation_Description='BUS LANE VIOLATION')\n"
     ]
    }
   ],
   "source": [
    "with CSVContextManager('nyc_parking_tickets_extract.csv') as csv_context:\n",
    "    i=0\n",
    "    for row in csv_context:\n",
    "        if i >= 10:  # Limit to the first 10 rows\n",
    "         break\n",
    "        print(row)\n",
    "        i+=1\n"
   ]
  },
  {
   "cell_type": "code",
   "execution_count": 51,
   "metadata": {},
   "outputs": [
    {
     "name": "stdout",
     "output_type": "stream",
     "text": [
      "Row(ssn='100-53-9824', first_name='Sebastiano', last_name='Tester', gender='Male', language='Icelandic')\n",
      "Row(ssn='101-71-4702', first_name='Cayla', last_name='MacDonagh', gender='Female', language='Lao')\n",
      "Row(ssn='101-84-0356', first_name='Nomi', last_name='Lipprose', gender='Female', language='Yiddish')\n",
      "Row(ssn='104-22-0928', first_name='Justinian', last_name='Kunzelmann', gender='Male', language='Dhivehi')\n",
      "Row(ssn='104-84-7144', first_name='Claudianus', last_name='Brixey', gender='Male', language='Afrikaans')\n",
      "Row(ssn='105-27-5541', first_name='Federico', last_name='Aggett', gender='Male', language='Chinese')\n",
      "Row(ssn='105-85-7486', first_name='Angelina', last_name='McAvey', gender='Female', language='Punjabi')\n",
      "Row(ssn='105-91-5022', first_name='Moselle', last_name='Apfel', gender='Female', language='Latvian')\n",
      "Row(ssn='105-91-7777', first_name='Audi', last_name='Roach', gender='Female', language='Estonian')\n",
      "Row(ssn='106-35-1938', first_name='Mackenzie', last_name='Nussey', gender='Male', language='Swedish')\n"
     ]
    }
   ],
   "source": [
    "with CSVContextManager('personal_info.csv') as csv_context:\n",
    "    i=0\n",
    "    for row in csv_context:\n",
    "        if i >= 10:  # Limit to the first 10 rows\n",
    "            break\n",
    "        print(row)\n",
    "        i+=1"
   ]
  },
  {
   "cell_type": "markdown",
   "metadata": {},
   "source": [
    "## Assignment 2\n",
    "\n",
    "The goal is to reproduce the work you did in Goal 1, but using a generator function and the `contextlib` `contextmanager` decorator."
   ]
  },
  {
   "cell_type": "code",
   "execution_count": 26,
   "metadata": {},
   "outputs": [],
   "source": [
    "import csv\n",
    "from collections import namedtuple\n",
    "from contextlib import contextmanager\n",
    "\n",
    "@contextmanager\n",
    "def csv_context_manager_decorator(filename, delimiter=','):\n",
    "    \"\"\"\n",
    "    Context manager for CSV file yielding rows as namedtuples.\n",
    "    \"\"\"\n",
    "    file = None\n",
    "    try:\n",
    "        file = open(filename, 'r')\n",
    "        reader = csv.reader(file, delimiter=delimiter)\n",
    "        headers = next(reader)\n",
    "        # Clean up headers for valid identifiers\n",
    "        clean_headers = [h.strip().replace(' ', '_').replace('-', '_') for h in headers]\n",
    "        RowType = namedtuple('Row', clean_headers)\n",
    "        # Yield rows as namedtuples\n",
    "        yield (RowType(*row) for row in reader)\n",
    "    finally:\n",
    "        if file:\n",
    "            file.close()"
   ]
  },
  {
   "cell_type": "code",
   "execution_count": 52,
   "metadata": {},
   "outputs": [
    {
     "name": "stdout",
     "output_type": "stream",
     "text": [
      "Row(Car='Chevrolet Chevelle Malibu', MPG='18.0', Cylinders='8', Displacement='307.0', Horsepower='130.0', Weight='3504.', Acceleration='12.0', Model='70', Origin='US')\n",
      "Row(Car='Buick Skylark 320', MPG='15.0', Cylinders='8', Displacement='350.0', Horsepower='165.0', Weight='3693.', Acceleration='11.5', Model='70', Origin='US')\n",
      "Row(Car='Plymouth Satellite', MPG='18.0', Cylinders='8', Displacement='318.0', Horsepower='150.0', Weight='3436.', Acceleration='11.0', Model='70', Origin='US')\n",
      "Row(Car='AMC Rebel SST', MPG='16.0', Cylinders='8', Displacement='304.0', Horsepower='150.0', Weight='3433.', Acceleration='12.0', Model='70', Origin='US')\n",
      "Row(Car='Ford Torino', MPG='17.0', Cylinders='8', Displacement='302.0', Horsepower='140.0', Weight='3449.', Acceleration='10.5', Model='70', Origin='US')\n",
      "Row(Car='Ford Galaxie 500', MPG='15.0', Cylinders='8', Displacement='429.0', Horsepower='198.0', Weight='4341.', Acceleration='10.0', Model='70', Origin='US')\n",
      "Row(Car='Chevrolet Impala', MPG='14.0', Cylinders='8', Displacement='454.0', Horsepower='220.0', Weight='4354.', Acceleration='9.0', Model='70', Origin='US')\n",
      "Row(Car='Plymouth Fury iii', MPG='14.0', Cylinders='8', Displacement='440.0', Horsepower='215.0', Weight='4312.', Acceleration='8.5', Model='70', Origin='US')\n",
      "Row(Car='Pontiac Catalina', MPG='14.0', Cylinders='8', Displacement='455.0', Horsepower='225.0', Weight='4425.', Acceleration='10.0', Model='70', Origin='US')\n",
      "Row(Car='AMC Ambassador DPL', MPG='15.0', Cylinders='8', Displacement='390.0', Horsepower='190.0', Weight='3850.', Acceleration='8.5', Model='70', Origin='US')\n"
     ]
    }
   ],
   "source": [
    "# Usage example:\n",
    "with csv_context_manager_decorator('cars.csv', delimiter=';') as csv_data:\n",
    "    i=0\n",
    "    for row in csv_data:\n",
    "        if i >= 10:  # Limit to the first 10 rows\n",
    "            break\n",
    "        print(row)\n",
    "        i+=1"
   ]
  },
  {
   "cell_type": "code",
   "execution_count": 53,
   "metadata": {},
   "outputs": [
    {
     "name": "stdout",
     "output_type": "stream",
     "text": [
      "Row(ssn='100-53-9824', first_name='Sebastiano', last_name='Tester', gender='Male', language='Icelandic')\n",
      "Row(ssn='101-71-4702', first_name='Cayla', last_name='MacDonagh', gender='Female', language='Lao')\n",
      "Row(ssn='101-84-0356', first_name='Nomi', last_name='Lipprose', gender='Female', language='Yiddish')\n",
      "Row(ssn='104-22-0928', first_name='Justinian', last_name='Kunzelmann', gender='Male', language='Dhivehi')\n",
      "Row(ssn='104-84-7144', first_name='Claudianus', last_name='Brixey', gender='Male', language='Afrikaans')\n",
      "Row(ssn='105-27-5541', first_name='Federico', last_name='Aggett', gender='Male', language='Chinese')\n",
      "Row(ssn='105-85-7486', first_name='Angelina', last_name='McAvey', gender='Female', language='Punjabi')\n",
      "Row(ssn='105-91-5022', first_name='Moselle', last_name='Apfel', gender='Female', language='Latvian')\n",
      "Row(ssn='105-91-7777', first_name='Audi', last_name='Roach', gender='Female', language='Estonian')\n",
      "Row(ssn='106-35-1938', first_name='Mackenzie', last_name='Nussey', gender='Male', language='Swedish')\n"
     ]
    }
   ],
   "source": [
    "with csv_context_manager_decorator('personal_info.csv') as csv_data:\n",
    "    i=0\n",
    "    for row in csv_data:\n",
    "        if i >= 10:  # Limit to the first 10 rows\n",
    "            break\n",
    "        print(row)\n",
    "        i+=1"
   ]
  },
  {
   "cell_type": "code",
   "execution_count": 54,
   "metadata": {},
   "outputs": [
    {
     "name": "stdout",
     "output_type": "stream",
     "text": [
      "Row(Summons_Number='4006478550', Plate_ID='VAD7274', Registration_State='VA', Plate_Type='PAS', Issue_Date='10/5/2016', Violation_Code='5', Vehicle_Body_Type='4D', Vehicle_Make='BMW', Violation_Description='BUS LANE VIOLATION')\n",
      "Row(Summons_Number='4006462396', Plate_ID='22834JK', Registration_State='NY', Plate_Type='COM', Issue_Date='9/30/2016', Violation_Code='5', Vehicle_Body_Type='VAN', Vehicle_Make='CHEVR', Violation_Description='BUS LANE VIOLATION')\n",
      "Row(Summons_Number='4007117810', Plate_ID='21791MG', Registration_State='NY', Plate_Type='COM', Issue_Date='4/10/2017', Violation_Code='5', Vehicle_Body_Type='VAN', Vehicle_Make='DODGE', Violation_Description='BUS LANE VIOLATION')\n",
      "Row(Summons_Number='4006265037', Plate_ID='FZX9232', Registration_State='NY', Plate_Type='PAS', Issue_Date='8/23/2016', Violation_Code='5', Vehicle_Body_Type='SUBN', Vehicle_Make='FORD', Violation_Description='BUS LANE VIOLATION')\n",
      "Row(Summons_Number='4006535600', Plate_ID='N203399C', Registration_State='NY', Plate_Type='OMT', Issue_Date='10/19/2016', Violation_Code='5', Vehicle_Body_Type='SUBN', Vehicle_Make='FORD', Violation_Description='BUS LANE VIOLATION')\n",
      "Row(Summons_Number='4007156700', Plate_ID='92163MG', Registration_State='NY', Plate_Type='COM', Issue_Date='4/13/2017', Violation_Code='5', Vehicle_Body_Type='VAN', Vehicle_Make='FRUEH', Violation_Description='BUS LANE VIOLATION')\n",
      "Row(Summons_Number='4006687989', Plate_ID='MIQ600', Registration_State='SC', Plate_Type='PAS', Issue_Date='11/21/2016', Violation_Code='5', Vehicle_Body_Type='VN', Vehicle_Make='HONDA', Violation_Description='BUS LANE VIOLATION')\n",
      "Row(Summons_Number='4006943052', Plate_ID='2AE3984', Registration_State='MD', Plate_Type='PAS', Issue_Date='2/1/2017', Violation_Code='5', Vehicle_Body_Type='SW', Vehicle_Make='LINCO', Violation_Description='BUS LANE VIOLATION')\n",
      "Row(Summons_Number='4007306795', Plate_ID='HLG4926', Registration_State='NY', Plate_Type='PAS', Issue_Date='5/30/2017', Violation_Code='5', Vehicle_Body_Type='SUBN', Vehicle_Make='TOYOT', Violation_Description='BUS LANE VIOLATION')\n",
      "Row(Summons_Number='4007124590', Plate_ID='T715907C', Registration_State='NY', Plate_Type='OMT', Issue_Date='4/3/2017', Violation_Code='5', Vehicle_Body_Type='SUBN', Vehicle_Make='TOYOT', Violation_Description='BUS LANE VIOLATION')\n"
     ]
    }
   ],
   "source": [
    "with csv_context_manager_decorator('nyc_parking_tickets_extract.csv') as csv_data:\n",
    "    i=0\n",
    "    for row in csv_data:\n",
    "        if i>=10: # Limit to the first 10 rows\n",
    "            break\n",
    "        print(row)\n",
    "        i+=1"
   ]
  },
  {
   "cell_type": "markdown",
   "metadata": {},
   "source": [
    "## Some tests to check functionality of context managers"
   ]
  },
  {
   "cell_type": "code",
   "execution_count": 55,
   "metadata": {},
   "outputs": [],
   "source": [
    "import os\n",
    "# Function to create a CSV file in a temporary location\n",
    "def create_csv_file():\n",
    "    csv_content = \"\"\"Name, Age, City\n",
    "John Doe,29,New York\n",
    "Jane Smith,35,Los Angeles\n",
    "Bob Johnson,40,Chicago\"\"\"\n",
    "    \n",
    "    csv_file = \"test_sample.csv\"\n",
    "    with open(csv_file, \"w\") as f:\n",
    "        f.write(csv_content)\n",
    "    \n",
    "    return csv_file\n",
    "\n",
    "# Test class-based CSVContextManager in Jupyter\n",
    "def test_csv_context_manager_class():\n",
    "    csv_file = create_csv_file()\n",
    "    \n",
    "    expected_rows = [\n",
    "        ('John Doe', '29', 'New York'),\n",
    "        ('Jane Smith', '35', 'Los Angeles'),\n",
    "        ('Bob Johnson', '40', 'Chicago')\n",
    "    ]\n",
    "    \n",
    "    with CSVContextManager(csv_file) as rows:\n",
    "        for i, row in enumerate(rows):\n",
    "            assert row.Name == expected_rows[i][0]\n",
    "            assert row.Age == expected_rows[i][1]\n",
    "            assert row.City == expected_rows[i][2]\n",
    "    \n",
    "    print(\"Class-based CSVContextManager test passed\")\n",
    "\n",
    "# Test decorator-based csv_context_manager_decorator in Jupyter\n",
    "def test_csv_context_manager_decorator():\n",
    "    csv_file = create_csv_file()\n",
    "    \n",
    "    expected_rows = [\n",
    "        ('John Doe', '29', 'New York'),\n",
    "        ('Jane Smith', '35', 'Los Angeles'),\n",
    "        ('Bob Johnson', '40', 'Chicago')\n",
    "    ]\n",
    "    \n",
    "    with csv_context_manager_decorator(csv_file) as rows:\n",
    "        for i, row in enumerate(rows):\n",
    "            assert row.Name == expected_rows[i][0]\n",
    "            assert row.Age == expected_rows[i][1]\n",
    "            assert row.City == expected_rows[i][2]\n",
    "    \n",
    "    print(\"Decorator-based csv_context_manager_decorator test passed\")\n"
   ]
  },
  {
   "cell_type": "code",
   "execution_count": 56,
   "metadata": {},
   "outputs": [
    {
     "name": "stdout",
     "output_type": "stream",
     "text": [
      "Class-based CSVContextManager test passed\n",
      "Decorator-based csv_context_manager_decorator test passed\n"
     ]
    }
   ],
   "source": [
    "# Run both tests\n",
    "test_csv_context_manager_class()\n",
    "test_csv_context_manager_decorator()"
   ]
  },
  {
   "cell_type": "code",
   "execution_count": 57,
   "metadata": {},
   "outputs": [],
   "source": [
    "# Cleanup the temporary CSV file\n",
    "os.remove(\"test_sample.csv\")"
   ]
  },
  {
   "cell_type": "markdown",
   "metadata": {},
   "source": [
    "## Thank You"
   ]
  },
  {
   "cell_type": "markdown",
   "metadata": {},
   "source": []
  }
 ],
 "metadata": {
  "kernelspec": {
   "display_name": "Python 3",
   "language": "python",
   "name": "python3"
  },
  "language_info": {
   "codemirror_mode": {
    "name": "ipython",
    "version": 3
   },
   "file_extension": ".py",
   "mimetype": "text/x-python",
   "name": "python",
   "nbconvert_exporter": "python",
   "pygments_lexer": "ipython3",
   "version": "3.12.1"
  }
 },
 "nbformat": 4,
 "nbformat_minor": 2
}
